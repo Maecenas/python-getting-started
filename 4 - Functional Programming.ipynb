{
 "cells": [
  {
   "cell_type": "markdown",
   "metadata": {},
   "source": [
    "## References\n",
    "\n",
    "- [Raymond Hettinger - Beyond PEP 8 -- Best practices for beautiful intelligible code](https://gist.github.com/Maecenas/5878ceee890a797ee6c9ad033a0ae0f1#file-p_vs_np_4_raymond_hettinger_pycon2015-py)\n",
    "- [Facts on Python: xuelangZF/CS_Offer/Python](https://github.com/xuelangZF/CS_Offer/blob/master/Python/)\n",
    "- [函数式编程初探 - 阮一峰](http://www.ruanyifeng.com/blog/2012/04/functional_programming.html)\n",
    "\n",
    "```\n",
    "map(fn, iterable)\n",
    "filter(predicate, iterable)\n",
    "lambda params: expr(params)\n",
    "(generator expression) or generator function(yield)\n",
    "```"
   ]
  },
  {
   "cell_type": "code",
   "execution_count": 1,
   "metadata": {},
   "outputs": [
    {
     "name": "stdout",
     "output_type": "stream",
     "text": [
      "[6, 4, 4, 3]\n",
      "[6, 4, 4, 3]\n"
     ]
    }
   ],
   "source": [
    "languages = [\"python\", \"perl\", \"java\", \"c++\"]\n",
    "print([len(s) for s in languages])\n",
    "print(list(map(len, languages)))"
   ]
  },
  {
   "cell_type": "code",
   "execution_count": 2,
   "metadata": {},
   "outputs": [
    {
     "data": {
      "text/plain": [
       "[1.0, 3.3, -4.2]"
      ]
     },
     "execution_count": 2,
     "metadata": {},
     "output_type": "execute_result"
    }
   ],
   "source": [
    "_ = map(float, ['1.0', '3.3', '-4.2'])\n",
    "list(_)\n",
    "# filter(is_prime, range(100))"
   ]
  },
  {
   "cell_type": "code",
   "execution_count": 3,
   "metadata": {},
   "outputs": [
    {
     "data": {
      "text/plain": [
       "True"
      ]
     },
     "execution_count": 3,
     "metadata": {},
     "output_type": "execute_result"
    }
   ],
   "source": [
    "def greet():\n",
    "    print(\"Hi!\")\n",
    "    \n",
    "lambda val: val ** 2\n",
    "lambda x, y: x * y\n",
    "lambda pair: pair[0] * pair[1]\n",
    "\n",
    "(lambda x: x > 3)(4)"
   ]
  },
  {
   "cell_type": "code",
   "execution_count": 4,
   "metadata": {},
   "outputs": [
    {
     "data": {
      "text/plain": [
       "[0, 1, 4, 9, 16, 25, 36, 49, 64, 81]"
      ]
     },
     "execution_count": 4,
     "metadata": {},
     "output_type": "execute_result"
    }
   ],
   "source": [
    "_ = map(lambda val: val ** 2, range(10))\n",
    "list(_)"
   ]
  },
  {
   "cell_type": "code",
   "execution_count": 5,
   "metadata": {},
   "outputs": [
    {
     "data": {
      "text/plain": [
       "[(4, 1)]"
      ]
     },
     "execution_count": 5,
     "metadata": {},
     "output_type": "execute_result"
    }
   ],
   "source": [
    "_ = filter(lambda pair: pair[1] > 0, [(4, 1), (3, -2), (8, 0)])\n",
    "list(_)"
   ]
  },
  {
   "cell_type": "code",
   "execution_count": 6,
   "metadata": {},
   "outputs": [],
   "source": [
    "it = iter([1, 2, 3])"
   ]
  },
  {
   "cell_type": "code",
   "execution_count": 7,
   "metadata": {},
   "outputs": [
    {
     "data": {
      "text/plain": [
       "3"
      ]
     },
     "execution_count": 7,
     "metadata": {},
     "output_type": "execute_result"
    }
   ],
   "source": [
    "next(it)\n",
    "next(it)\n",
    "next(it)\n",
    "# next(it) # raises StopIteration error"
   ]
  },
  {
   "cell_type": "code",
   "execution_count": 8,
   "metadata": {},
   "outputs": [],
   "source": [
    "def fibs():\n",
    "    a, b = 0, 1\n",
    "    while True:\n",
    "        yield b\n",
    "        a, b = b, a + b"
   ]
  },
  {
   "cell_type": "code",
   "execution_count": 9,
   "metadata": {},
   "outputs": [],
   "source": [
    "g = fibs()"
   ]
  },
  {
   "cell_type": "code",
   "execution_count": 10,
   "metadata": {},
   "outputs": [],
   "source": [
    "def fibs_under(n):\n",
    "    for fib in fibs():\n",
    "        if fib > n:\n",
    "            break\n",
    "        print(fib)"
   ]
  },
  {
   "cell_type": "code",
   "execution_count": 11,
   "metadata": {},
   "outputs": [
    {
     "name": "stdout",
     "output_type": "stream",
     "text": [
      "1\n",
      "1\n",
      "2\n",
      "3\n",
      "5\n",
      "8\n",
      "13\n",
      "21\n",
      "34\n",
      "55\n",
      "89\n",
      "144\n",
      "233\n",
      "377\n",
      "610\n",
      "987\n"
     ]
    }
   ],
   "source": [
    "fibs_under(1000)"
   ]
  },
  {
   "cell_type": "code",
   "execution_count": 12,
   "metadata": {},
   "outputs": [
    {
     "name": "stdout",
     "output_type": "stream",
     "text": [
      "Arguments: (2, 3) {}\n",
      "Arguments: (2, 3) {}\n",
      "foo\n"
     ]
    }
   ],
   "source": [
    "from functools import wraps\n",
    "\n",
    "def debug(function):\n",
    "    @wraps(function)\n",
    "    # Copyting func.__name__, __docs__ to wrapper\n",
    "    def wrapper(*args, **kwargs):\n",
    "        print(\"Arguments:\", args, kwargs)\n",
    "        return function(*args, **kwargs)\n",
    "    return wrapper\n",
    "\n",
    "def foo(a, b, c=1):\n",
    "    return (a + b) * c\n",
    "\n",
    "foo1 = debug(foo)\n",
    "foo1(2, 3)\n",
    "\n",
    "@debug\n",
    "def foo(a, b, c=1):\n",
    "    return (a + b) * c\n",
    "\n",
    "foo(2, 3)\n",
    "print(foo1.__name__)"
   ]
  },
  {
   "cell_type": "code",
   "execution_count": 13,
   "metadata": {},
   "outputs": [
    {
     "name": "stdout",
     "output_type": "stream",
     "text": [
      "20365011074\n"
     ]
    }
   ],
   "source": [
    "def memo(func):\n",
    "    # Closure that makes cache always accessible inside memo\n",
    "    cache = {}\n",
    "    def wrap(*args):\n",
    "        if args not in cache:\n",
    "            cache[args] = func(*args)\n",
    "        return cache[args]\n",
    "    return wrap\n",
    "\n",
    "@memo\n",
    "def fibonacci(n):\n",
    "    if n <= 1:\n",
    "        return 1\n",
    "    return fibonacci(n - 1) + fibonacci(n - 2)\n",
    "\n",
    "print(fibonacci(50))"
   ]
  },
  {
   "cell_type": "markdown",
   "metadata": {},
   "source": [
    "- [The sticky output function](https://github.com/satwikkansal/wtfpython#-the-sticky-output-function)"
   ]
  },
  {
   "cell_type": "code",
   "execution_count": 14,
   "metadata": {},
   "outputs": [
    {
     "data": {
      "text/plain": [
       "[2, 2, 2]"
      ]
     },
     "execution_count": 14,
     "metadata": {},
     "output_type": "execute_result"
    }
   ],
   "source": [
    "flist = []\n",
    "for i in range(3):\n",
    "    flist.append(lambda: i)\n",
    "\n",
    "[f() for f in flist]   \n",
    "# what will this print out?"
   ]
  }
 ],
 "metadata": {
  "kernelspec": {
   "display_name": "Python 3",
   "language": "python",
   "name": "python3"
  },
  "language_info": {
   "codemirror_mode": {
    "name": "ipython",
    "version": 3
   },
   "file_extension": ".py",
   "mimetype": "text/x-python",
   "name": "python",
   "nbconvert_exporter": "python",
   "pygments_lexer": "ipython3",
   "version": "3.6.5"
  }
 },
 "nbformat": 4,
 "nbformat_minor": 2
}
