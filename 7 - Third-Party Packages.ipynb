{
 "cells": [
  {
   "cell_type": "code",
   "execution_count": 1,
   "metadata": {},
   "outputs": [],
   "source": [
    "from utils import ThirdParty\n",
    "# import utils\n",
    "import pandas as pd\n",
    "import matplotlib.pyplot as plt\n",
    "%matplotlib inline"
   ]
  },
  {
   "cell_type": "code",
   "execution_count": 2,
   "metadata": {},
   "outputs": [
    {
     "name": "stdout",
     "output_type": "stream",
     "text": [
      "       0                        1       2\n",
      "0    MMM                       3M  195.80\n",
      "1    AXP         American Express   98.54\n",
      "2   AAPL                    Apple  182.17\n",
      "3     BA                   Boeing  331.20\n",
      "4    CAT              Caterpillar  136.58\n",
      "5    CVX                  Chevron  122.61\n",
      "6   CSCO                    Cisco   42.29\n",
      "7     KO                Coca-Cola   43.58\n",
      "8    DIS                   Disney  104.45\n",
      "9   DWDP            DowDuPont Inc   65.98\n",
      "10   XOM              Exxon Mobil   79.74\n",
      "11    GE         General Electric   12.75\n",
      "12    GS            Goldman Sachs  221.54\n",
      "13    HD               Home Depot  196.38\n",
      "14   IBM                      IBM  138.79\n",
      "15  INTC                    Intel   50.71\n",
      "16   JNJ        Johnson & Johnson  122.59\n",
      "17   JPM           JPMorgan Chase  104.79\n",
      "18   MCD               McDonald's  159.81\n",
      "19   MRK                    Merck   61.08\n",
      "20  MSFT                Microsoft   98.39\n",
      "21   NKE                     Nike   72.35\n",
      "22   PFE                   Pfizer   36.38\n",
      "23    PG         Procter & Gamble   77.79\n",
      "24   TRV  Travelers Companies Inc  123.72\n",
      "25   UTX      United Technologies  124.61\n",
      "26   UNH             UnitedHealth  250.71\n",
      "27    VZ                  Verizon   49.60\n",
      "28     V                     Visa  130.93\n",
      "29   WMT                 Wal-Mart   86.47\n"
     ]
    }
   ],
   "source": [
    "dji_list = ThirdParty.retrieve_dji_list()\n",
    "djidf = pd.DataFrame(dji_list)\n",
    "print(djidf)"
   ]
  },
  {
   "cell_type": "code",
   "execution_count": 3,
   "metadata": {},
   "outputs": [
    {
     "name": "stdout",
     "output_type": "stream",
     "text": [
      "       adjclose       close        date        high         low        open  \\\n",
      "0     81.852127   83.080002  1498570200   83.519997   83.010002   83.059998   \n",
      "1     82.728973   83.970001  1498656600   84.269997   83.400002   83.510002   \n",
      "2     82.394005   83.629997  1498743000   85.389999   83.160004   84.919998   \n",
      "3     82.994987   84.239998  1498829400   84.639999   83.589996   84.089996   \n",
      "4     83.842278   85.099998  1499088600   85.739998   84.690002   84.690002   \n",
      "5     83.951057   84.889999  1499261400   85.879997   84.809998   85.220001   \n",
      "6     82.813766   83.739998  1499347800   84.839996   83.720001   84.669998   \n",
      "7     83.397255   84.330002  1499434200   84.690002   83.769997   83.930000   \n",
      "8     83.367584   84.300003  1499693400   84.570000   83.970001   84.129997   \n",
      "9     83.229134   84.160004  1499779800   84.309998   83.540001   84.230003   \n",
      "10    83.881836   84.820000  1499866200   84.980003   84.059998   84.279999   \n",
      "11    84.425743   85.370003  1499952600   85.430000   84.739998   84.930000   \n",
      "12    84.336739   85.279999  1500039000   85.559998   84.589996   84.849998   \n",
      "13    84.277412   85.220001  1500298200   85.519997   84.779999   85.129997   \n",
      "14    84.574081   85.519997  1500384600   85.559998   84.760002   84.959999   \n",
      "15    84.979553   85.930000  1500471000   85.980003   85.300003   85.760002   \n",
      "16    84.405968   85.349998  1500557400   85.449997   84.529999   84.940002   \n",
      "17    84.643311   85.589996  1500643800   86.279999   85.430000   85.790001   \n",
      "18    84.059837   85.000000  1500903000   85.669998   83.860001   85.449997   \n",
      "19    84.465309   85.410004  1500989400   86.099998   85.080002   85.839996   \n",
      "20    84.356529   85.300003  1501075800   85.720001   85.169998   85.410004   \n",
      "21    82.922562   83.849998  1501162200   85.199997   83.330002   85.180000   \n",
      "22    83.862061   84.800003  1501248600   85.099998   83.620003   83.879997   \n",
      "23    84.287300   85.230003  1501507800   85.699997   84.839996   85.169998   \n",
      "24    84.297180   85.239998  1501594200   85.839996   85.139999   85.720001   \n",
      "25    84.356529   85.300003  1501680600   85.360001   84.970001   85.150002   \n",
      "26    84.593864   85.540001  1501767000   85.879997   85.139999   85.239998   \n",
      "27    85.019112   85.970001  1501853400   86.330002   85.839996   85.989998   \n",
      "28    84.900429   85.849998  1502112600   86.190002   85.680000   86.099998   \n",
      "29    84.989441   85.940002  1502199000   86.669998   85.410004   85.430000   \n",
      "..          ...         ...         ...         ...         ...         ...   \n",
      "221  101.290001  101.290001  1526304600  102.150002  101.110001  101.690002   \n",
      "222  100.739998  100.739998  1526391000  101.230003   99.970001  100.820000   \n",
      "223  100.589996  100.589996  1526477400  101.239998  100.230003  100.279999   \n",
      "224  101.220001  101.220001  1526563800  101.639999  100.300003  100.650002   \n",
      "225  100.989998  100.989998  1526650200  101.330002  100.459999  100.930000   \n",
      "226  102.040001  102.040001  1526909400  102.379997  101.349998  101.570000   \n",
      "227  102.699997  102.699997  1526995800  103.239998  102.080002  102.320000   \n",
      "228  101.930000  101.930000  1527082200  102.250000  100.910004  101.820000   \n",
      "229  102.010002  102.010002  1527168600  102.309998  100.720001  101.690002   \n",
      "230  101.099998  101.099998  1527255000  101.639999  100.470001  101.349998   \n",
      "231   97.720001   97.720001  1527600600   99.839996   96.980003   99.839996   \n",
      "232   98.989998   98.989998  1527687000   99.419998   97.959999   98.849998   \n",
      "233   98.300003   98.300003  1527773400   99.360001   97.800003   98.680000   \n",
      "234   98.250000   98.250000  1527859800   99.610001   98.220001   99.339996   \n",
      "235   99.449997   99.449997  1528119000   99.510002   98.639999   98.809998   \n",
      "236   99.309998   99.309998  1528205400   99.410004   98.430000   99.120003   \n",
      "237  100.970001  100.970001  1528291800  101.000000   99.570000  100.000000   \n",
      "238  101.480003  101.480003  1528378200  102.389999  100.889999  101.440002   \n",
      "239  101.000000  101.000000  1528464600  101.300003   99.589996  101.290001   \n",
      "240  101.199997  101.199997  1528723800  101.669998  100.790001  101.180000   \n",
      "241  100.730003  100.730003  1528810200  101.500000  100.239998  101.500000   \n",
      "242  100.019997  100.019997  1528896600  100.879997   99.959999  100.870003   \n",
      "243   99.760002   99.760002  1528983000  101.099998   99.510002  100.519997   \n",
      "244   98.519997   98.519997  1529069400   99.269997   97.309998   99.220001   \n",
      "245   98.470001   98.470001  1529328600   98.550003   97.309998   97.849998   \n",
      "246   97.139999   97.139999  1529415000   97.930000   96.620003   97.139999   \n",
      "247   96.419998   96.419998  1529501400   97.889999   96.360001   97.699997   \n",
      "248   96.629997   96.629997  1529587800   96.959999   95.760002   96.160004   \n",
      "249   97.230003   97.230003  1529674200   97.959999   97.070000   97.349998   \n",
      "250   98.540001   98.540001  1529933400  100.099998   95.650002   97.050003   \n",
      "\n",
      "      volume  \n",
      "0    2994500  \n",
      "1    3668500  \n",
      "2    5092600  \n",
      "3    3320800  \n",
      "4    2306900  \n",
      "5    3501200  \n",
      "6    3213400  \n",
      "7    2454600  \n",
      "8    2147000  \n",
      "9    2733200  \n",
      "10   4629100  \n",
      "11   3309400  \n",
      "12   3354700  \n",
      "13   2190500  \n",
      "14   2816000  \n",
      "15   5539700  \n",
      "16   5386400  \n",
      "17   3570400  \n",
      "18   5389100  \n",
      "19   3255200  \n",
      "20   3038100  \n",
      "21   6119300  \n",
      "22   3321200  \n",
      "23   3079800  \n",
      "24   3148800  \n",
      "25   3252300  \n",
      "26   2381800  \n",
      "27   2840200  \n",
      "28   2089100  \n",
      "29   2922800  \n",
      "..       ...  \n",
      "221  2234800  \n",
      "222  3442300  \n",
      "223  2135200  \n",
      "224  2876100  \n",
      "225  2927600  \n",
      "226  2084000  \n",
      "227  2910700  \n",
      "228  2487400  \n",
      "229  2203300  \n",
      "230  1850800  \n",
      "231  4361800  \n",
      "232  3076800  \n",
      "233  2780300  \n",
      "234  2700100  \n",
      "235  2381300  \n",
      "236  1811500  \n",
      "237  2872700  \n",
      "238  4245700  \n",
      "239  3580500  \n",
      "240  3453000  \n",
      "241  2426100  \n",
      "242  3183800  \n",
      "243  3285500  \n",
      "244  6741200  \n",
      "245  3621300  \n",
      "246  3119600  \n",
      "247  4495300  \n",
      "248  3350700  \n",
      "249  7235400  \n",
      "250  7947400  \n",
      "\n",
      "[251 rows x 7 columns]\n"
     ]
    }
   ],
   "source": [
    "quotes = ThirdParty.retrieve_quotes_historical('AXP')\n",
    "quotesdf = pd.DataFrame(quotes)\n",
    "print(quotesdf)"
   ]
  },
  {
   "cell_type": "code",
   "execution_count": 4,
   "metadata": {},
   "outputs": [
    {
     "data": {
      "text/plain": [
       "[<matplotlib.lines.Line2D at 0x7fc225031518>]"
      ]
     },
     "execution_count": 4,
     "metadata": {},
     "output_type": "execute_result"
    },
    {
     "data": {
      "image/png": "[encoded data removed]",
      "text/plain": [
       "<Figure size 432x288 with 2 Axes>"
      ]
     },
     "metadata": {},
     "output_type": "display_data"
    }
   ],
   "source": [
    "open1 = ThirdParty.create_aveg_open('INTC')\n",
    "open2 = ThirdParty.create_aveg_open('IBM')\n",
    "plt.subplot(211)          \n",
    "plt.plot(open1.index,open1.values,color='r',marker='o')\n",
    "plt.subplot(212)\n",
    "plt.plot(open1.index,open2.values,color='green',marker='o')"
   ]
  }
 ],
 "metadata": {
  "kernelspec": {
   "display_name": "Python 3",
   "language": "python",
   "name": "python3"
  },
  "language_info": {
   "codemirror_mode": {
    "name": "ipython",
    "version": 3
   },
   "file_extension": ".py",
   "mimetype": "text/x-python",
   "name": "python",
   "nbconvert_exporter": "python",
   "pygments_lexer": "ipython3",
   "version": "3.6.5"
  }
 },
 "nbformat": 4,
 "nbformat_minor": 2
}
